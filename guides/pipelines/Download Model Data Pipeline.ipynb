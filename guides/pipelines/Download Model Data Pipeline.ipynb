{
 "cells": [
  {
   "cell_type": "markdown",
   "id": "ba14ae4d",
   "metadata": {},
   "source": [
    "# Pipeline to Download Model Data from Object Storage \n",
    "In [Build a Spam Classifier](https://www.codingforentrepreneurs.com/blog/build-a-spam-classifier-with-keras), we create a deep learning model and upload it to an object storage provider (AWS S3, Linode Object Storage, DigitalOcean Spaces, etc). Each one of these providers uses the python package `boto3`.\n",
    "\n",
    "Below is a pipeline for downloading the model and it is reusable. In fact, it is made as a reusable pipeline to download nearly *anything* from an object storage that supports `boto3`.\n",
    "\n",
    "This post is brought to in you in partnership with [DataStax](https://dtsx.io/3nRWZEG).\n",
    "\n",
    "The reference code & project is on [github](https://github.com/codingforentrepreneurs/AI-as-an-API)."
   ]
  },
  {
   "cell_type": "markdown",
   "id": "5f66d6d0",
   "metadata": {},
   "source": [
    "## Configure `pypyr` & Pipeline"
   ]
  },
  {
   "cell_type": "markdown",
   "id": "f26a70a8",
   "metadata": {},
   "source": [
    "Install packages `pypyr`, `python-dotenv`, `python-dotenv`:\n",
    "```\n",
    "pip install pypyr python-dotenv python-dotenv\n",
    "```\n",
    "\n",
    "\n",
    "Update `.env` with:\n",
    "```\n",
    "AWS_ACCESS_KEY_ID=\"your_object_storage_access_key\"\n",
    "AWS_SECRET_ACCESS_KEY=\"your_object_storage_secret_key\"\n",
    "BUCKET_NAME=\"see below\"\n",
    "ENDPOINT_URL=\"see below\"\n",
    "REGION_NAME=\"see below\"\n",
    "```\n",
    "\n",
    "**BUCKET_NAME** must be a valid bucket on _AWS sS3_ otherwise you can use an arbitrary slugified name\n",
    "\n",
    "**ENDPOINT_URL** is only required on DigitalOcean and Linode\n",
    "\n",
    "**REGION_NAME** is required"
   ]
  },
  {
   "cell_type": "markdown",
   "id": "4fbd42b8",
   "metadata": {},
   "source": [
    "## Setup Pipeline\n",
    "\n",
    "It's true that [pypyr](https://pypyr.io/) has many capabilities to make pipelines even better. This one is about as simple as they come: run a boto3 client to download some files (`file_keys`) to some local destination (`dest_dir`).\n",
    "\n",
    "`pipelines/sms-spam-model-download.yaml`"
   ]
  },
  {
   "cell_type": "markdown",
   "id": "691906ef",
   "metadata": {},
   "source": [
    "```yaml\n",
    "context_parser: pypyr.parser.keyvaluepairs\n",
    "steps:\n",
    "  - name: pypyr.steps.contextsetf\n",
    "    comment: set some arbitrary values in context\n",
    "    in:\n",
    "      contextSetf:\n",
    "        dest_dir: models/spam-sms\n",
    "        file_keys: [\n",
    "            'exports/spam-sms/spam-model.h5', \n",
    "            'exports/spam-sms/spam-classifer-tokenizer.json', \n",
    "            'exports/spam-sms/spam-classifer-metadata.json'\n",
    "          ]\n",
    "  - name: pypyr.steps.py\n",
    "    comment: Run python code to download the above file keys.\n",
    "    in:\n",
    "      py: |\n",
    "          import os\n",
    "          import pathlib\n",
    "          import boto3\n",
    "          from dotenv import load_dotenv\n",
    "          load_dotenv()\n",
    "          session = boto3.session.Session()\n",
    "          bucket_name = os.environ.get('BUCKET_NAME')\n",
    "          region_name = os.environ.get('REGION_NAME')\n",
    "          endpoint_url = os.environ.get('ENDPOINT_URL') or None\n",
    "          if not os.environ.get('AWS_ACCESS_KEY_ID') or not os.environ.get('AWS_SECRET_ACCESS_KEY'):\n",
    "            raise Exception(\"AWS_ACCESS_KEY_ID and AWS_SECRET_ACCESS_KEY are required environment variables.\")\n",
    "          if not bucket_name or not region_name:\n",
    "            raise Exception(\"BUCKET_NAME and REGION_NAME are required environment variables.\")\n",
    "          client = session.client('s3', region_name=region_name, endpoint_url=endpoint_url)\n",
    "          for x in file_keys:\n",
    "            dest_path = pathlib.Path(dest_dir)\n",
    "            if not dest_path.exists():\n",
    "              dest_path.mkdir(parents=True, exist_ok=True)\n",
    "            download_path = dest_path / pathlib.Path(x).name\n",
    "            client.download_file(bucket_name, x, str(download_path))\n",
    "```"
   ]
  },
  {
   "cell_type": "markdown",
   "id": "ff88a564",
   "metadata": {},
   "source": [
    "## Run Pipeline\n",
    "\n",
    "```\n",
    "python -m pypyr pipelines/sms-spam-model-download.yaml\n",
    "```\n",
    "\n",
    "Now you should be able to easily download the model data anytime you need."
   ]
  },
  {
   "cell_type": "code",
   "execution_count": null,
   "id": "e2661f40",
   "metadata": {},
   "outputs": [],
   "source": []
  }
 ],
 "metadata": {
  "kernelspec": {
   "display_name": "Python 3 (ipykernel)",
   "language": "python",
   "name": "python3"
  },
  "language_info": {
   "codemirror_mode": {
    "name": "ipython",
    "version": 3
   },
   "file_extension": ".py",
   "mimetype": "text/x-python",
   "name": "python",
   "nbconvert_exporter": "python",
   "pygments_lexer": "ipython3",
   "version": "3.8.10"
  }
 },
 "nbformat": 4,
 "nbformat_minor": 5
}
